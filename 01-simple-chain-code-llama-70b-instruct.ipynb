{
 "cells": [
  {
   "cell_type": "markdown",
   "metadata": {},
   "source": [
    "## OS and env variables"
   ]
  },
  {
   "cell_type": "code",
   "execution_count": null,
   "metadata": {},
   "outputs": [],
   "source": [
    "# If you run this on colab, you need to install the following packages. Un-comment the line below and run this cell.\n",
    "# %pip install python-dotenv==1.0.1 langchain==0.1.5 langchain-openai==0.0.5"
   ]
  },
  {
   "cell_type": "code",
   "execution_count": 9,
   "metadata": {},
   "outputs": [],
   "source": [
    "import os\n",
    "from dotenv import load_dotenv\n",
    "\n",
    "load_dotenv()\n",
    "\n",
    "# TogetherAI\n",
    "os.environ[\"TOGETHER_API_KEY\"] = os.getenv(\"TOGETHER_API_KEY\")\n",
    "\n",
    "# Langsmith (optional, comment out if not using)\n",
    "os.environ[\"LANGCHAIN_TRACING_V2\"] = os.getenv(\"LANGCHAIN_TRACING_V2\")\n",
    "os.environ[\"LANGCHAIN_ENDPOINT\"] = os.getenv(\"LANGCHAIN_ENDPOINT\")\n",
    "os.environ[\"LANGCHAIN_API_KEY\"] = os.getenv(\"LANGCHAIN_API_KEY\")\n",
    "os.environ[\"LANGCHAIN_PROJECT\"] = os.getenv(\"LANGCHAIN_PROJECT\")"
   ]
  },
  {
   "cell_type": "markdown",
   "metadata": {},
   "source": [
    "## Set up a simple chain"
   ]
  },
  {
   "cell_type": "code",
   "execution_count": 10,
   "metadata": {},
   "outputs": [],
   "source": [
    "from langchain.prompts import ChatPromptTemplate\n",
    "from langchain.prompts.chat import (\n",
    "    SystemMessagePromptTemplate,\n",
    "    HumanMessagePromptTemplate,\n",
    ")\n",
    "from langchain.schema.output_parser import StrOutputParser\n",
    "\n",
    "system_template = \"\"\"\n",
    "You are an expert programmer that helps to write Python code based on the user request, with concise explanations. Don't be too verbose.\n",
    "\"\"\"\n",
    "system_message_prompt = SystemMessagePromptTemplate.from_template(\n",
    "    system_template)\n",
    "\n",
    "# Set up the human template with a variable for the request\n",
    "human_template = \"\"\"\n",
    "{request}\n",
    "\"\"\"\n",
    "\n",
    "human_message_prompt = HumanMessagePromptTemplate.from_template(human_template)\n",
    "\n",
    "prompt = ChatPromptTemplate.from_messages(\n",
    "    [system_message_prompt, human_message_prompt])\n",
    "\n",
    "output_parser = StrOutputParser()"
   ]
  },
  {
   "cell_type": "markdown",
   "metadata": {},
   "source": [
    "## Set up our model"
   ]
  },
  {
   "cell_type": "code",
   "execution_count": 11,
   "metadata": {},
   "outputs": [],
   "source": [
    "from langchain_openai import ChatOpenAI\n",
    "\n",
    "MODEL_CODELLAMA_TOGETHER = ChatOpenAI(\n",
    "    openai_api_base=\"https://api.together.xyz\",\n",
    "    api_key=os.getenv(\"TOGETHER_API_KEY\"),\n",
    "    model=\"codellama/CodeLlama-70b-Instruct-hf\",\n",
    "    temperature=0,\n",
    ")\n",
    "\n",
    "model = MODEL_CODELLAMA_TOGETHER\n",
    "\n",
    "code_writing_runnable = prompt | model | output_parser"
   ]
  },
  {
   "cell_type": "markdown",
   "metadata": {},
   "source": [
    "## Run the chain"
   ]
  },
  {
   "cell_type": "code",
   "execution_count": 12,
   "metadata": {},
   "outputs": [
    {
     "name": "stdout",
     "output_type": "stream",
     "text": [
      "\n",
      "\n",
      "def string_lengths(strings):\n",
      "    # Create an empty list to store the lengths of the strings\n",
      "    lengths = []\n",
      "    \n",
      "    # Iterate through each string in the input list\n",
      "    for string in strings:\n",
      "        # Calculate the length of the string and append it to the lengths list\n",
      "        lengths.append(len(string))\n",
      "    \n",
      "    # Return the list of lengths\n",
      "    return lengths\n",
      "\n",
      "# Test the function\n",
      "print(string_lengths([\"hello\", \"world\"]))\n"
     ]
    }
   ],
   "source": [
    "feature_request = \"\"\"\n",
    "Create a function that takes a list of strings as input and returns a list of the lengths of those strings.\n",
    "For example, if the input is [\"hello\", \"world\"], the function should return [5, 5].\n",
    "\"\"\"\n",
    "\n",
    "response = code_writing_runnable.invoke({\"request\": feature_request})\n",
    "\n",
    "print(response)"
   ]
  }
 ],
 "metadata": {
  "kernelspec": {
   "display_name": ".venv",
   "language": "python",
   "name": "python3"
  },
  "language_info": {
   "codemirror_mode": {
    "name": "ipython",
    "version": 3
   },
   "file_extension": ".py",
   "mimetype": "text/x-python",
   "name": "python",
   "nbconvert_exporter": "python",
   "pygments_lexer": "ipython3",
   "version": "3.11.5"
  }
 },
 "nbformat": 4,
 "nbformat_minor": 2
}
